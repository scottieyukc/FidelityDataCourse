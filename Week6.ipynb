{
 "cells": [
  {
   "cell_type": "code",
   "execution_count": 1,
   "id": "bb818254",
   "metadata": {},
   "outputs": [],
   "source": [
    "import requests\n"
   ]
  },
  {
   "cell_type": "code",
   "execution_count": 2,
   "id": "0b9b7b13",
   "metadata": {},
   "outputs": [
    {
     "name": "stdout",
     "output_type": "stream",
     "text": [
      "<Response [200]>\n"
     ]
    }
   ],
   "source": [
    "data = requests.get(\"http://api.open-notify.org/iss-now.json\")\n",
    "print(data)"
   ]
  },
  {
   "cell_type": "code",
   "execution_count": 6,
   "id": "059bc19b",
   "metadata": {},
   "outputs": [
    {
     "data": {
      "text/plain": [
       "{'iss_position': {'longitude': '130.0415', 'latitude': '-43.9365'},\n",
       " 'timestamp': 1655143627,\n",
       " 'message': 'success'}"
      ]
     },
     "execution_count": 6,
     "metadata": {},
     "output_type": "execute_result"
    }
   ],
   "source": [
    "data.json()\n"
   ]
  },
  {
   "cell_type": "code",
   "execution_count": 4,
   "id": "19d26996",
   "metadata": {},
   "outputs": [
    {
     "data": {
      "text/plain": [
       "dict"
      ]
     },
     "execution_count": 4,
     "metadata": {},
     "output_type": "execute_result"
    }
   ],
   "source": [
    "type(data.json())"
   ]
  },
  {
   "cell_type": "code",
   "execution_count": 9,
   "id": "1e76e541",
   "metadata": {},
   "outputs": [],
   "source": [
    "data = data.json()"
   ]
  },
  {
   "cell_type": "code",
   "execution_count": 10,
   "id": "b792963c",
   "metadata": {},
   "outputs": [
    {
     "data": {
      "text/plain": [
       "{'iss_position': {'longitude': '130.0415', 'latitude': '-43.9365'},\n",
       " 'timestamp': 1655143627,\n",
       " 'message': 'success'}"
      ]
     },
     "execution_count": 10,
     "metadata": {},
     "output_type": "execute_result"
    }
   ],
   "source": [
    "data"
   ]
  },
  {
   "cell_type": "code",
   "execution_count": 11,
   "id": "ec3ab236",
   "metadata": {},
   "outputs": [
    {
     "data": {
      "text/plain": [
       "'130.0415'"
      ]
     },
     "execution_count": 11,
     "metadata": {},
     "output_type": "execute_result"
    }
   ],
   "source": [
    "#Parsing\n",
    "data['iss_position']['longitude']"
   ]
  },
  {
   "cell_type": "code",
   "execution_count": 39,
   "id": "6734299d",
   "metadata": {},
   "outputs": [
    {
     "name": "stdout",
     "output_type": "stream",
     "text": [
      "                    0                                                  1\n",
      "0           Meta Data  {'1. Information': 'Intraday (5min) open, high...\n",
      "1  Time Series (5min)  {'2022-06-17 19:35:00': {'1. open': '135.4800'...\n",
      "                      1. open   2. high    3. low  4. close 5. volume\n",
      "2022-06-17 19:35:00  135.4800  135.4800  135.4800  135.4800       300\n",
      "2022-06-17 18:45:00  135.5000  135.5000  135.5000  135.5000       650\n",
      "2022-06-17 17:55:00  135.0200  135.0200  135.0200  135.0200      3301\n",
      "2022-06-17 17:35:00  135.0400  135.0400  135.0400  135.0400       301\n",
      "2022-06-17 17:15:00  135.0400  135.0400  135.0400  135.0400       400\n",
      "...                       ...       ...       ...       ...       ...\n",
      "2022-06-17 08:45:00  136.0000  136.0000  135.7400  135.7400       827\n",
      "2022-06-17 08:35:00  136.2500  136.2500  136.2499  136.2499       454\n",
      "2022-06-17 08:30:00  136.2499  136.2499  136.2499  136.2499       105\n",
      "2022-06-17 08:20:00  136.2500  136.2500  136.2500  136.2500       173\n",
      "2022-06-17 08:10:00  136.2500  136.2500  136.2500  136.2500       100\n",
      "\n",
      "[100 rows x 5 columns]\n"
     ]
    }
   ],
   "source": [
    "#import requests\n",
    "#import pandas as pd\n",
    "\n",
    "# replace the \"demo\" apikey below with your own key from https://www.alphavantage.co/support/#api-key\n",
    "url = 'https://www.alphavantage.co/query?function=TIME_SERIES_INTRADAY&symbol=IBM&interval=5min&apikey=KZXS6P19YHWPS8NB'\n",
    "r = requests.get(url)\n",
    "data = r.json()\n",
    "time_series_data = data[\"Time Series (5min)\"]\n",
    "\n",
    "#print(time_series_data)\n",
    "\n",
    "print(pd.DataFrame(data.items()))\n",
    "\n",
    "df = pd.DataFrame.from_dict(time_series_data)\n",
    "#print(df)\n",
    "\n",
    "#df1 = pd.DataFrame.from_dict({(i,j): time_series_data[i][j]\n",
    "#                            for i in time_series_data.keys()\n",
    "#                             for j in time_series_data[i].keys()},\n",
    "#                             orient='index'\n",
    "#                            )\n",
    "\n",
    "df1 = pd.DataFrame(time_series_data).T\n",
    "print(df1)\n"
   ]
  },
  {
   "cell_type": "code",
   "execution_count": null,
   "id": "de2b702f",
   "metadata": {},
   "outputs": [],
   "source": [
    "#convert alphavantage into dataframe"
   ]
  }
 ],
 "metadata": {
  "kernelspec": {
   "display_name": "Python 3 (ipykernel)",
   "language": "python",
   "name": "python3"
  },
  "language_info": {
   "codemirror_mode": {
    "name": "ipython",
    "version": 3
   },
   "file_extension": ".py",
   "mimetype": "text/x-python",
   "name": "python",
   "nbconvert_exporter": "python",
   "pygments_lexer": "ipython3",
   "version": "3.9.7"
  }
 },
 "nbformat": 4,
 "nbformat_minor": 5
}
